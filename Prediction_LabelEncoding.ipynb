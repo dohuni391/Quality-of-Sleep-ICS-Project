{
 "cells": [
  {
   "cell_type": "code",
   "execution_count": 1,
   "metadata": {},
   "outputs": [
    {
     "name": "stdout",
     "output_type": "stream",
     "text": [
      "{'Gender': {'Female': 0, 'Male': 1}, 'Occupation': {'Accountant': 0, 'Doctor': 1, 'Engineer': 2, 'Lawyer': 3, 'Manager': 4, 'Nurse': 5, 'Sales Representative': 6, 'Salesperson': 7, 'Scientist': 8, 'Software Engineer': 9, 'Teacher': 10}, 'BMI Category': {'Normal': 0, 'Obese': 1, 'Overweight': 2}, 'Blood Pressure': {'Hypertension': 0, 'Normal': 1, 'Prehypertension': 2}, 'Sleep Disorder': {'Insomnia': 0, 'None': 1, 'Sleep Apnea': 2}}\n"
     ]
    }
   ],
   "source": [
    "import pandas as pd\n",
    "import numpy as np\n",
    "from sklearn.preprocessing import LabelEncoder\n",
    "\n",
    "data = pd.read_csv('Sleep_health_and_lifestyle_dataset.csv', keep_default_na=False) #Reading the dataset\n",
    "\n",
    "#Normal and Normal Weight are the same thing, so we will replace Normal Weight with Normal\n",
    "data['BMI Category'] = data['BMI Category'].replace('Normal Weight', 'Normal')\n",
    "\n",
    "#We will categorize the blood pressure into three categories: Normal, Prehypertension and Hypertension\n",
    "def categorize_bp(row):\n",
    "    systolic, diastolic = map(int, row['Blood Pressure'].split('/'))\n",
    "    if systolic >= 140 or diastolic >= 90:\n",
    "        return 'Hypertension'\n",
    "    elif 120 <= systolic < 140 or 80 <= diastolic < 90:\n",
    "        return 'Prehypertension'\n",
    "    else:\n",
    "        return 'Normal'\n",
    "\n",
    "data['Blood Pressure'] = data.apply(categorize_bp, axis=1)\n",
    "\n",
    "#Convert the data into numerical values\n",
    "categories = ['Gender', 'Occupation', 'BMI Category', 'Blood Pressure', 'Sleep Disorder']\n",
    "\n",
    "# Create a dictionary to store LabelEncoders for each category\n",
    "label_encoders = {}\n",
    "\n",
    "for category in categories:\n",
    "    LE = LabelEncoder()\n",
    "    data[category] = LE.fit_transform(data[category])\n",
    "    label_encoders[category] = LE\n",
    "\n",
    "#Drop the Person ID column\n",
    "data.drop('Person ID', axis=1, inplace=True)\n",
    "\n",
    "#Get encoded data information\n",
    "encoders_info = {col: dict(zip(LE.classes_, LE.transform(LE.classes_))) for col, LE in label_encoders.items()}\n",
    "print(encoders_info)"
   ]
  },
  {
   "cell_type": "code",
   "execution_count": 2,
   "metadata": {},
   "outputs": [],
   "source": [
    "from sklearn.model_selection import train_test_split\n",
    "from sklearn.preprocessing import StandardScaler\n",
    "from sklearn.pipeline import Pipeline\n",
    "from sklearn.metrics import accuracy_score\n",
    "from sklearn.model_selection import GridSearchCV\n",
    "from sklearn.ensemble import RandomForestClassifier, GradientBoostingClassifier\n",
    "from sklearn.svm import SVC\n",
    "from sklearn.linear_model import LogisticRegression\n",
    "from sklearn.neighbors import KNeighborsClassifier\n",
    "from sklearn.tree import DecisionTreeClassifier"
   ]
  },
  {
   "cell_type": "code",
   "execution_count": 3,
   "metadata": {},
   "outputs": [
    {
     "name": "stdout",
     "output_type": "stream",
     "text": [
      "Training set size: (261, 11)\n",
      "Testing set size: (113, 11)\n",
      "y train shape: (261,)\n",
      "y test shape: (113,)\n"
     ]
    }
   ],
   "source": [
    "# Define the features and target variable\n",
    "x = data.drop('Quality of Sleep', axis=1)\n",
    "y = data['Quality of Sleep']\n",
    "\n",
    "# Split the data into training and testing sets\n",
    "x_train, x_test, y_train, y_test = train_test_split(x, y, test_size=0.3, random_state=32, shuffle=True)\n",
    "\n",
    "print(\"Training set size:\", x_train.shape)\n",
    "print(\"Testing set size:\", x_test.shape)\n",
    "\n",
    "print(\"y train shape:\", y_train.shape)\n",
    "print(\"y test shape:\", y_test.shape)"
   ]
  },
  {
   "cell_type": "code",
   "execution_count": 2,
   "metadata": {},
   "outputs": [
    {
     "ename": "NameError",
     "evalue": "name 'Pipeline' is not defined",
     "output_type": "error",
     "traceback": [
      "\u001b[1;31m---------------------------------------------------------------------------\u001b[0m",
      "\u001b[1;31mNameError\u001b[0m                                 Traceback (most recent call last)",
      "Cell \u001b[1;32mIn[2], line 2\u001b[0m\n\u001b[0;32m      1\u001b[0m \u001b[38;5;66;03m#Create a pipeline\u001b[39;00m\n\u001b[1;32m----> 2\u001b[0m pipe \u001b[38;5;241m=\u001b[39m \u001b[43mPipeline\u001b[49m([\n\u001b[0;32m      3\u001b[0m     (\u001b[38;5;124m'\u001b[39m\u001b[38;5;124mscaler\u001b[39m\u001b[38;5;124m'\u001b[39m, StandardScaler()),\n\u001b[0;32m      4\u001b[0m     (\u001b[38;5;124m'\u001b[39m\u001b[38;5;124mclassifier\u001b[39m\u001b[38;5;124m'\u001b[39m, RandomForestClassifier())\n\u001b[0;32m      5\u001b[0m ])\n\u001b[0;32m      7\u001b[0m \u001b[38;5;66;03m#Define the hyperparameters\u001b[39;00m\n\u001b[0;32m      8\u001b[0m param_grid \u001b[38;5;241m=\u001b[39m [\n\u001b[0;32m      9\u001b[0m     {\u001b[38;5;124m'\u001b[39m\u001b[38;5;124mclassifier\u001b[39m\u001b[38;5;124m'\u001b[39m: [RandomForestClassifier()],\n\u001b[0;32m     10\u001b[0m      \u001b[38;5;124m'\u001b[39m\u001b[38;5;124mclassifier__n_estimators\u001b[39m\u001b[38;5;124m'\u001b[39m: [\u001b[38;5;241m50\u001b[39m, \u001b[38;5;241m100\u001b[39m, \u001b[38;5;241m200\u001b[39m],\n\u001b[1;32m   (...)\u001b[0m\n\u001b[0;32m     33\u001b[0m      \u001b[38;5;124m'\u001b[39m\u001b[38;5;124mclassifier__max_depth\u001b[39m\u001b[38;5;124m'\u001b[39m: [\u001b[38;5;28;01mNone\u001b[39;00m, \u001b[38;5;241m5\u001b[39m, \u001b[38;5;241m10\u001b[39m, \u001b[38;5;241m15\u001b[39m]}\n\u001b[0;32m     34\u001b[0m ]\n",
      "\u001b[1;31mNameError\u001b[0m: name 'Pipeline' is not defined"
     ]
    }
   ],
   "source": [
    "#Create a pipeline\n",
    "pipe = Pipeline([\n",
    "    ('scaler', StandardScaler()),\n",
    "    ('classifier', RandomForestClassifier())\n",
    "])\n",
    "\n",
    "#Define the hyperparameters\n",
    "param_grid = [\n",
    "    {'classifier': [RandomForestClassifier()],\n",
    "     'classifier__n_estimators': [50, 100, 200],\n",
    "     'classifier__max_depth': [None, 5, 10, 15],\n",
    "     'classifier__min_samples_split': [2, 5, 10],\n",
    "     'classifier__min_samples_leaf': [1, 2, 5],\n",
    "     'classifier__max_features': ['sqrt', 'log2']},\n",
    "    {'classifier': [GradientBoostingClassifier()],\n",
    "     'classifier__n_estimators': [50, 100, 200],\n",
    "     'classifier__learning_rate': [0.1, 0.01, 0.001],\n",
    "     'classifier__max_features': ['sqrt', 'log2']},\n",
    "    {'classifier': [SVC()],\n",
    "     'classifier__C': [0.1, 1, 10, 100],\n",
    "     'classifier__gamma': [1, 0.1, 0.01, 0.001],\n",
    "     'classifier__kernel': ['linear', 'rbf']},\n",
    "    {'classifier': [LogisticRegression()],\n",
    "     'classifier__C': [0.1, 1, 10, 100],\n",
    "     'classifier__solver': ['lbfgs', 'liblinear']},\n",
    "    {'classifier': [KNeighborsClassifier()],\n",
    "     'classifier__n_neighbors': [3, 5, 7, 9],\n",
    "     'classifier__weights': ['uniform', 'distance'],\n",
    "     'classifier__algorithm': ['ball_tree', 'kd_tree', 'brute']},\n",
    "    {'classifier': [DecisionTreeClassifier()],\n",
    "     'classifier__criterion': ['gini', 'entropy'],\n",
    "     'classifier__splitter': ['best', 'random'],\n",
    "     'classifier__max_depth': [None, 5, 10, 15]}\n",
    "]\n",
    "\n",
    "# Grid search\n",
    "grid = GridSearchCV(pipe, param_grid, cv=5, n_jobs=-1)\n",
    "grid.fit(x_train, y_train)\n",
    "\n",
    "#Get the best model\n",
    "best_model = grid.best_estimator_\n",
    "\n",
    "#Get the accuracy of each model\n",
    "accuracy_scores = []\n",
    "models = ['RandomForestClassifier', 'GradientBoostingClassifier', 'SVC', 'LogisticRegression', 'KNeighborsClassifier', 'DecisionTreeClassifier']\n",
    "for model in models:\n",
    "    pipe = Pipeline([\n",
    "        ('scaler', StandardScaler()),\n",
    "        ('classifier', eval(model + '()'))\n",
    "    ])\n",
    "    pipe.fit(x_train, y_train)\n",
    "    y_pred = pipe.predict(x_test)\n",
    "    accuracy = accuracy_score(y_test, y_pred)\n",
    "    accuracy_scores.append(accuracy)"
   ]
  },
  {
   "cell_type": "code",
   "execution_count": 5,
   "metadata": {},
   "outputs": [
    {
     "data": {
      "image/png": "[encoded data removed]",
      "text/plain": [
       "<Figure size 1000x600 with 1 Axes>"
      ]
     },
     "metadata": {},
     "output_type": "display_data"
    }
   ],
   "source": [
    "import matplotlib.pyplot as plt\n",
    "\n",
    "# Define the models\n",
    "models = ['RandomForest', 'GradientBoosting', 'SVC', 'LogisticRegression', 'KNeighbors', 'DecisionTree']\n",
    "\n",
    "# Plot the accuracy scores\n",
    "plt.figure(figsize=(10, 6))\n",
    "bars = plt.bar(models, accuracy_scores, color='skyblue')\n",
    "plt.xlabel('Models')\n",
    "plt.ylabel('Accuracy Score')\n",
    "plt.title('Comparison of Accuracy Scores for Different Models')\n",
    "plt.ylim(0, 1.1)\n",
    "\n",
    "# Add accuracy values on top of each bar\n",
    "for bar, score in zip(bars, accuracy_scores):\n",
    "    yval = bar.get_height()\n",
    "    plt.text(bar.get_x() + bar.get_width()/2, yval, round(score, 3), ha='center', va='bottom')\n",
    "\n",
    "plt.show()"
   ]
  },
  {
   "cell_type": "markdown",
   "metadata": {},
   "source": [
    "It shows that GradientBoosting and DecisionTree is overfitting as it has accruacy of 100%.\n"
   ]
  },
  {
   "cell_type": "code",
   "execution_count": 1,
   "metadata": {},
   "outputs": [
    {
     "ename": "NameError",
     "evalue": "name 'best_model' is not defined",
     "output_type": "error",
     "traceback": [
      "\u001b[1;31m---------------------------------------------------------------------------\u001b[0m",
      "\u001b[1;31mNameError\u001b[0m                                 Traceback (most recent call last)",
      "Cell \u001b[1;32mIn[1], line 1\u001b[0m\n\u001b[1;32m----> 1\u001b[0m importances \u001b[38;5;241m=\u001b[39m \u001b[43mbest_model\u001b[49m\u001b[38;5;241m.\u001b[39mnamed_steps[\u001b[38;5;124m'\u001b[39m\u001b[38;5;124mclassifier\u001b[39m\u001b[38;5;124m'\u001b[39m]\u001b[38;5;241m.\u001b[39mfeature_importances_\n\u001b[0;32m      2\u001b[0m indices \u001b[38;5;241m=\u001b[39m np\u001b[38;5;241m.\u001b[39margsort(importances)[::\u001b[38;5;241m-\u001b[39m\u001b[38;5;241m1\u001b[39m]\n\u001b[0;32m      3\u001b[0m features \u001b[38;5;241m=\u001b[39m x\u001b[38;5;241m.\u001b[39mcolumns\n",
      "\u001b[1;31mNameError\u001b[0m: name 'best_model' is not defined"
     ]
    }
   ],
   "source": [
    "importances = best_model.named_steps['classifier'].feature_importances_\n",
    "indices = np.argsort(importances)[::-1]\n",
    "features = x.columns\n",
    "\n",
    "plt.figure(figsize=(12, 6))\n",
    "plt.title(\"Feature Importances\")\n",
    "plt.bar(range(x.shape[1]), importances[indices], align=\"center\")\n",
    "plt.xticks(range(x.shape[1]), features[indices], rotation=45)\n",
    "plt.xlim([-1, x.shape[1]])\n",
    "plt.show()"
   ]
  },
  {
   "cell_type": "code",
   "execution_count": 7,
   "metadata": {},
   "outputs": [
    {
     "name": "stdout",
     "output_type": "stream",
     "text": [
      "\n",
      "Best Performing Model:\n",
      "classifier: RandomForestClassifier()\n",
      "classifier__max_depth: 15\n",
      "classifier__max_features: sqrt\n",
      "classifier__min_samples_leaf: 1\n",
      "classifier__min_samples_split: 5\n",
      "classifier__n_estimators: 100\n"
     ]
    },
    {
     "data": {
      "text/plain": [
       "['best_model.pkl']"
      ]
     },
     "execution_count": 7,
     "metadata": {},
     "output_type": "execute_result"
    }
   ],
   "source": [
    "import joblib\n",
    "\n",
    "# Print the best performing model and its hyperparameters\n",
    "print(\"\\nBest Performing Model:\")\n",
    "for param, value in grid.best_params_.items():\n",
    "    print(f\"{param}: {value}\")\n",
    "\n",
    "# Save the best model\n",
    "joblib.dump(best_model, 'best_model.pkl')"
   ]
  },
  {
   "cell_type": "code",
   "execution_count": 9,
   "metadata": {},
   "outputs": [],
   "source": [
    "import os\n",
    "\n",
    "# Create a folder to save the graphs\n",
    "folder_name = 'graphs'\n",
    "if not os.path.exists(folder_name):\n",
    "    os.makedirs(folder_name)\n",
    "\n",
    "# Save the accuracy scores plot\n",
    "plt.figure(figsize=(12, 6))\n",
    "bars = plt.bar(models, accuracy_scores, color='skyblue')\n",
    "plt.xlabel('Models')\n",
    "plt.ylabel('Accuracy Score')\n",
    "plt.title('Comparison of Accuracy Scores for Different Models')\n",
    "plt.ylim(0, 1.1)\n",
    "for bar, score in zip(bars, accuracy_scores):\n",
    "    yval = bar.get_height()\n",
    "    plt.text(bar.get_x() + bar.get_width()/2, yval, round(score, 3), ha='center', va='bottom')\n",
    "plt.savefig(os.path.join(folder_name, 'accuracy_scores.png'))\n",
    "plt.close()\n",
    "\n",
    "# Save the feature importances plot\n",
    "plt.figure(figsize=(12, 6))\n",
    "plt.title(\"Feature Importances\")\n",
    "plt.bar(range(x.shape[1]), importances[indices], align=\"center\")\n",
    "plt.xticks(range(x.shape[1]), features[indices], rotation=90)\n",
    "plt.xlim([-1, x.shape[1]])\n",
    "plt.savefig(os.path.join(folder_name, 'feature_importances.png'))\n",
    "plt.close()"
   ]
  }
 ],
 "metadata": {
  "kernelspec": {
   "display_name": "ics",
   "language": "python",
   "name": "python3"
  },
  "language_info": {
   "codemirror_mode": {
    "name": "ipython",
    "version": 3
   },
   "file_extension": ".py",
   "mimetype": "text/x-python",
   "name": "python",
   "nbconvert_exporter": "python",
   "pygments_lexer": "ipython3",
   "version": "3.12.7"
  }
 },
 "nbformat": 4,
 "nbformat_minor": 2
}
